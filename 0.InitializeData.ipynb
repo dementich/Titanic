{
 "cells": [
  {
   "cell_type": "code",
   "execution_count": 1,
   "id": "f7dddcb9",
   "metadata": {},
   "outputs": [],
   "source": [
    "import os\n",
    "from os import path\n",
    "import zipfile"
   ]
  },
  {
   "cell_type": "markdown",
   "id": "f93527e6",
   "metadata": {},
   "source": [
    "# Load initial data"
   ]
  },
  {
   "cell_type": "code",
   "execution_count": 2,
   "id": "b524a40b",
   "metadata": {},
   "outputs": [],
   "source": [
    "data_archive = './titanic.zip'\n",
    "data_folder = './source_data'\n",
    "if path.exists(data_archive):\n",
    "    os.remove(data_archive)\n",
    "os.system('kaggle competitions download -c titanic')\n",
    "with zipfile.ZipFile(data_archive, 'r') as zip_ref:\n",
    "    zip_ref.extractall(data_folder)\n",
    "if path.exists(data_archive):\n",
    "    os.remove(data_archive)"
   ]
  }
 ],
 "metadata": {
  "kernelspec": {
   "display_name": "titanic-env",
   "language": "python",
   "name": "titanic-env"
  },
  "language_info": {
   "codemirror_mode": {
    "name": "ipython",
    "version": 3
   },
   "file_extension": ".py",
   "mimetype": "text/x-python",
   "name": "python",
   "nbconvert_exporter": "python",
   "pygments_lexer": "ipython3",
   "version": "3.9.6"
  }
 },
 "nbformat": 4,
 "nbformat_minor": 5
}
