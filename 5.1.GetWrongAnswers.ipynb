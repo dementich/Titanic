{
 "cells": [
  {
   "cell_type": "markdown",
   "id": "ff715034",
   "metadata": {},
   "source": [
    "# Now a bit of Reversed Engineering"
   ]
  },
  {
   "cell_type": "code",
   "execution_count": 1,
   "id": "ce1f7a75",
   "metadata": {},
   "outputs": [],
   "source": [
    "import warnings\n",
    "warnings.filterwarnings('ignore')\n",
    "\n",
    "import numpy as np\n",
    "import pandas as pd\n",
    "from sklearn.model_selection import StratifiedKFold\n",
    "from sklearn.metrics import accuracy_score\n",
    "from catboost import CatBoostClassifier\n",
    "\n",
    "from os import path\n",
    "import os"
   ]
  },
  {
   "cell_type": "markdown",
   "id": "a0b79cde",
   "metadata": {},
   "source": [
    "First let's restore the cheat answer and save it"
   ]
  },
  {
   "cell_type": "code",
   "execution_count": 2,
   "id": "bce75247",
   "metadata": {},
   "outputs": [],
   "source": [
    "data_folder = './source_data'\n",
    "raw_train = pd.read_csv(path.join(data_folder, 'train.csv'), index_col='PassengerId')\n",
    "raw_test = pd.read_csv(path.join(data_folder, 'test.csv'), index_col='PassengerId')\n",
    "train_test = pd.concat([raw_train, raw_test])\n",
    "train_test = train_test.sort_values(by='Name')\n",
    "\n",
    "cheat = pd.read_csv(path.join('./special_data', 'cheat.csv')).rename(str.lower, axis='columns')\n",
    "cheat = cheat.sort_values(by='name')\n",
    "\n",
    "result = pd.DataFrame(index=train_test.index, data={'Survived': cheat['survived'].values})\n",
    "result = result.sort_index()\n",
    "result = result[891:]\n",
    "\n",
    "result_folder = './predictions'\n",
    "result.to_csv(path.join(result_folder, f'cheat_answers.csv'))"
   ]
  },
  {
   "cell_type": "markdown",
   "id": "fee7967c",
   "metadata": {},
   "source": [
    "Now let's reproduce our best non-cheating classification and also save it"
   ]
  },
  {
   "cell_type": "code",
   "execution_count": 3,
   "id": "27fc24b2",
   "metadata": {},
   "outputs": [
    {
     "name": "stdout",
     "output_type": "stream",
     "text": [
      "\n",
      "CatBoostClassifier:\n",
      "mean_score = 0.9248035914702581; acc_score = [0.9248035914702581]\n"
     ]
    }
   ],
   "source": [
    "num_model_features = ['age', 'sibsp', 'parch', 'fare', '1cl', '2cl', '3cl', 'capt.', 'col.',\\\n",
    "                      'countess.', 'don.', 'dona.', 'dr.', 'jonkheer.', 'lady.', 'major.', 'master.',\\\n",
    "                      'miss.', 'mlle.', 'mme.', 'mr.', 'mrs.', 'ms.', 'rev.', 'sir.', 'female', 'male',\\\n",
    "                      'room', 'ticket_num', 'a', 'b', 'c', 'd', 'e', 'f', 'g', 't']\n",
    "\n",
    "def check_model_kfold(model, data):\n",
    "    kf = StratifiedKFold(n_splits=5)\n",
    "    X, y = data[num_model_features], data['survived']\n",
    "    acc_score = []\n",
    "    for train, test in kf.split(X, y):\n",
    "        X_train, y_train, X_test, y_test = X.iloc[train], y.iloc[train], X.iloc[test], y.iloc[test]\n",
    "        model.fit(X_train, y_train)\n",
    "        y_pred = model.predict(X_test)\n",
    "        acc = accuracy_score(y_pred, y_test)\n",
    "        acc_score += [acc]\n",
    "    return acc_score\n",
    "\n",
    "def check_model_100(model, data):\n",
    "    X, y = data[num_model_features], data['survived']\n",
    "    acc_score = []\n",
    "    model.fit(X, y)\n",
    "    y_pred = model.predict(X)\n",
    "    acc = accuracy_score(y_pred, y)\n",
    "    acc_score += [acc]\n",
    "    return acc_score\n",
    "\n",
    "data_folder = './source_data'\n",
    "data = pd.read_csv(path.join(data_folder, 'prepr_train.csv'), index_col='passengerid').rename(str.lower, axis='columns')\n",
    "\n",
    "models = [CatBoostClassifier(random_state=0, silent=True)]\n",
    "\n",
    "for model in models:\n",
    "    acc_score = check_model_100(model, data)\n",
    "    print(f'\\n{model.__class__.__name__}:')\n",
    "    print(f'mean_score = {np.mean(acc_score)}; acc_score = {acc_score}')\n",
    "    \n",
    "def apply_model(model, data):\n",
    "    X = data[num_model_features]\n",
    "    result = pd.DataFrame(index=X.index, data={'Survived': model.predict(X)})\n",
    "    result.index.names = ['PassengerId']\n",
    "    return result\n",
    "\n",
    "test = pd.read_csv(path.join(data_folder, 'prepr_test.csv'), index_col='passengerid').rename(str.lower, axis='columns')\n",
    "result_folder = './predictions'\n",
    "for model in models:\n",
    "    y_test = apply_model(model, test)\n",
    "    y_test.to_csv(path.join(result_folder, f'{model.__class__.__name__}_prediction_100.csv'))"
   ]
  },
  {
   "cell_type": "markdown",
   "id": "1a35ae96",
   "metadata": {},
   "source": [
    "Now let's take the wrong answers"
   ]
  },
  {
   "cell_type": "code",
   "execution_count": 9,
   "id": "3804f6cc",
   "metadata": {},
   "outputs": [
    {
     "data": {
      "text/html": [
       "<div>\n",
       "<style scoped>\n",
       "    .dataframe tbody tr th:only-of-type {\n",
       "        vertical-align: middle;\n",
       "    }\n",
       "\n",
       "    .dataframe tbody tr th {\n",
       "        vertical-align: top;\n",
       "    }\n",
       "\n",
       "    .dataframe thead th {\n",
       "        text-align: right;\n",
       "    }\n",
       "</style>\n",
       "<table border=\"1\" class=\"dataframe\">\n",
       "  <thead>\n",
       "    <tr style=\"text-align: right;\">\n",
       "      <th></th>\n",
       "      <th>Survived_cheat</th>\n",
       "      <th>Survived_guess</th>\n",
       "    </tr>\n",
       "    <tr>\n",
       "      <th>PassengerId</th>\n",
       "      <th></th>\n",
       "      <th></th>\n",
       "    </tr>\n",
       "  </thead>\n",
       "  <tbody>\n",
       "    <tr>\n",
       "      <th>893</th>\n",
       "      <td>1</td>\n",
       "      <td>0</td>\n",
       "    </tr>\n",
       "    <tr>\n",
       "      <th>897</th>\n",
       "      <td>1</td>\n",
       "      <td>0</td>\n",
       "    </tr>\n",
       "    <tr>\n",
       "      <th>899</th>\n",
       "      <td>1</td>\n",
       "      <td>0</td>\n",
       "    </tr>\n",
       "    <tr>\n",
       "      <th>910</th>\n",
       "      <td>0</td>\n",
       "      <td>1</td>\n",
       "    </tr>\n",
       "    <tr>\n",
       "      <th>911</th>\n",
       "      <td>1</td>\n",
       "      <td>0</td>\n",
       "    </tr>\n",
       "    <tr>\n",
       "      <th>...</th>\n",
       "      <td>...</td>\n",
       "      <td>...</td>\n",
       "    </tr>\n",
       "    <tr>\n",
       "      <th>1286</th>\n",
       "      <td>1</td>\n",
       "      <td>0</td>\n",
       "    </tr>\n",
       "    <tr>\n",
       "      <th>1297</th>\n",
       "      <td>1</td>\n",
       "      <td>0</td>\n",
       "    </tr>\n",
       "    <tr>\n",
       "      <th>1301</th>\n",
       "      <td>0</td>\n",
       "      <td>1</td>\n",
       "    </tr>\n",
       "    <tr>\n",
       "      <th>1302</th>\n",
       "      <td>0</td>\n",
       "      <td>1</td>\n",
       "    </tr>\n",
       "    <tr>\n",
       "      <th>1304</th>\n",
       "      <td>0</td>\n",
       "      <td>1</td>\n",
       "    </tr>\n",
       "  </tbody>\n",
       "</table>\n",
       "<p>91 rows × 2 columns</p>\n",
       "</div>"
      ],
      "text/plain": [
       "             Survived_cheat  Survived_guess\n",
       "PassengerId                                \n",
       "893                       1               0\n",
       "897                       1               0\n",
       "899                       1               0\n",
       "910                       0               1\n",
       "911                       1               0\n",
       "...                     ...             ...\n",
       "1286                      1               0\n",
       "1297                      1               0\n",
       "1301                      0               1\n",
       "1302                      0               1\n",
       "1304                      0               1\n",
       "\n",
       "[91 rows x 2 columns]"
      ]
     },
     "execution_count": 9,
     "metadata": {},
     "output_type": "execute_result"
    }
   ],
   "source": [
    "wrong_answers = result.join(y_test, lsuffix='_cheat', rsuffix='_guess')\n",
    "wrong_answers = wrong_answers[wrong_answers['Survived_cheat'] != wrong_answers['Survived_guess']]\n",
    "wrong_answers"
   ]
  },
  {
   "cell_type": "code",
   "execution_count": 11,
   "id": "ddc387eb",
   "metadata": {},
   "outputs": [],
   "source": [
    "wrong_answers.to_csv(path.join('./special_data', 'wrong_answers.csv'))"
   ]
  }
 ],
 "metadata": {
  "kernelspec": {
   "display_name": "titanic-env",
   "language": "python",
   "name": "titanic-env"
  },
  "language_info": {
   "codemirror_mode": {
    "name": "ipython",
    "version": 3
   },
   "file_extension": ".py",
   "mimetype": "text/x-python",
   "name": "python",
   "nbconvert_exporter": "python",
   "pygments_lexer": "ipython3",
   "version": "3.9.5"
  }
 },
 "nbformat": 4,
 "nbformat_minor": 5
}
